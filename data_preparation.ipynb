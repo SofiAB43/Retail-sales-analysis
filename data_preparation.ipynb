{
 "cells": [
  {
   "cell_type": "code",
   "execution_count": 1,
   "id": "dbe1ec23-71d5-44e8-99df-97d4868bb181",
   "metadata": {},
   "outputs": [],
   "source": [
    "import numpy as np\n",
    "import pandas as pd\n",
    "from ucimlrepo import fetch_ucirepo\n",
    "\n",
    "import warnings\n",
    "warnings.filterwarnings(\"ignore\")\n",
    "\n",
    "import seaborn as sns\n",
    "import matplotlib.pyplot as plt\n",
    "%matplotlib inline\n",
    "\n",
    "#Pandas dataframe view configuration\n",
    "pd.set_option('display.float_format', lambda x: '%.2f' % x)\n",
    "pd.set_option('display.max_columns', None)\n",
    "\n",
    "import time\n",
    "import datetime as dt"
   ]
  },
  {
   "cell_type": "markdown",
   "id": "0bcd954d",
   "metadata": {},
   "source": [
    "\n",
    "### Dataset Information\n",
    "\n",
    "The dataset used in this analysis can be downloaded directly from the [UCI Machine Learning Repository](https://archive.ics.uci.edu/dataset/352/online+retail) or imported directly as shown in this notebook. For more details, visit the [original repository](https://github.com/uci-ml-repo/ucimlrepo).\n",
    "\n",
    "**Citation:**\n",
    "Chen, Daqing. (2015). *Online Retail*. UCI Machine Learning Repository. [https://doi.org/10.24432/C5BW33](https://doi.org/10.24432/C5BW33).\n"
   ]
  },
  {
   "cell_type": "code",
   "execution_count": 2,
   "id": "7cf125af-669d-4eb0-be14-320f0bf4f03d",
   "metadata": {},
   "outputs": [
    {
     "name": "stdout",
     "output_type": "stream",
     "text": [
      "{'uci_id': 352, 'name': 'Online Retail', 'repository_url': 'https://archive.ics.uci.edu/dataset/352/online+retail', 'data_url': 'https://archive.ics.uci.edu/static/public/352/data.csv', 'abstract': 'This is a transnational data set which contains all the transactions occurring between 01/12/2010 and 09/12/2011 for a UK-based and registered non-store online retail.', 'area': 'Business', 'tasks': ['Classification', 'Clustering'], 'characteristics': ['Multivariate', 'Sequential', 'Time-Series'], 'num_instances': 541909, 'num_features': 6, 'feature_types': ['Integer', 'Real'], 'demographics': [], 'target_col': None, 'index_col': ['InvoiceNo', 'StockCode'], 'has_missing_values': 'no', 'missing_values_symbol': None, 'year_of_dataset_creation': 2015, 'last_updated': 'Fri Jan 05 2024', 'dataset_doi': '10.24432/C5BW33', 'creators': ['Daqing Chen'], 'intro_paper': {'title': 'Data mining for the online retail industry: A case study of RFM model-based customer segmentation using data mining', 'authors': 'Daqing Chen, Sai Laing Sain, Kun Guo', 'published_in': 'Journal of Database Marketing and Customer Strategy Management, Vol. 19, No. 3', 'year': 2012, 'url': 'https://www.semanticscholar.org/paper/e43a5a90fa33d419df42e485099f8f08badf2149', 'doi': '10.1057/dbm.2012.17'}, 'additional_info': {'summary': 'This is a transnational data set which contains all the transactions occurring between 01/12/2010 and 09/12/2011 for a UK-based and registered non-store online retail.The company mainly sells unique all-occasion gifts. Many customers of the company are wholesalers.', 'purpose': None, 'funded_by': None, 'instances_represent': None, 'recommended_data_splits': None, 'sensitive_data': None, 'preprocessing_description': None, 'variable_info': \"InvoiceNo: Invoice number. Nominal, a 6-digit integral number uniquely assigned to each transaction. If this code starts with letter 'c', it indicates a cancellation. \\nStockCode: Product (item) code. Nominal, a 5-digit integral number uniquely assigned to each distinct product.\\nDescription: Product (item) name. Nominal.\\nQuantity: The quantities of each product (item) per transaction. Numeric.\\t\\nInvoiceDate: Invoice Date and time. Numeric, the day and time when each transaction was generated.\\nUnitPrice: Unit price. Numeric, Product price per unit in sterling.\\nCustomerID: Customer number. Nominal, a 5-digit integral number uniquely assigned to each customer.\\nCountry: Country name. Nominal, the name of the country where each customer resides. \", 'citation': None}}\n",
      "          name     role         type demographic  \\\n",
      "0    InvoiceNo       ID  Categorical        None   \n",
      "1    StockCode       ID  Categorical        None   \n",
      "2  Description  Feature  Categorical        None   \n",
      "3     Quantity  Feature      Integer        None   \n",
      "4  InvoiceDate  Feature         Date        None   \n",
      "5    UnitPrice  Feature   Continuous        None   \n",
      "6   CustomerID  Feature  Categorical        None   \n",
      "7      Country  Feature  Categorical        None   \n",
      "\n",
      "                                         description     units missing_values  \n",
      "0  a 6-digit integral number uniquely assigned to...      None             no  \n",
      "1  a 5-digit integral number uniquely assigned to...      None             no  \n",
      "2                                       product name      None             no  \n",
      "3  the quantities of each product (item) per tran...      None             no  \n",
      "4  the day and time when each transaction was gen...      None             no  \n",
      "5                             product price per unit  sterling             no  \n",
      "6  a 5-digit integral number uniquely assigned to...      None             no  \n",
      "7  the name of the country where each customer re...      None             no  \n"
     ]
    }
   ],
   "source": [
    "# fetch dataset \n",
    "online_retail = fetch_ucirepo(id=352) \n",
    "  \n",
    "# metadata \n",
    "print(online_retail.metadata) \n",
    "  \n",
    "# variable information \n",
    "print(online_retail.variables) \n"
   ]
  },
  {
   "cell_type": "code",
   "execution_count": 3,
   "id": "5a9711af",
   "metadata": {},
   "outputs": [],
   "source": [
    "online_retail.data.targets "
   ]
  },
  {
   "cell_type": "code",
   "execution_count": 4,
   "id": "40dc690b-00e4-4008-961d-ecacc1d5e507",
   "metadata": {},
   "outputs": [
    {
     "data": {
      "text/plain": [
       "Index(['InvoiceNo', 'StockCode', 'Description', 'Quantity', 'InvoiceDate',\n",
       "       'UnitPrice', 'CustomerID', 'Country'],\n",
       "      dtype='object')"
      ]
     },
     "execution_count": 4,
     "metadata": {},
     "output_type": "execute_result"
    }
   ],
   "source": [
    "online_retail.data.headers"
   ]
  },
  {
   "cell_type": "markdown",
   "id": "8a3404e9",
   "metadata": {},
   "source": [
    "Since the 'original' key contains a DataFrame that includes the complete original dataset consisting of all IDs, features, this is the most comprehensive view of the dataset. The columns here include:\n",
    "InvoiceNo, StockCode, Description, Quantity, InvoiceDate, UnitPrice, CustomerID, Country."
   ]
  },
  {
   "cell_type": "code",
   "execution_count": 5,
   "id": "f196a584-9e17-47cc-8016-8118f20ad142",
   "metadata": {},
   "outputs": [
    {
     "data": {
      "text/html": [
       "<div>\n",
       "<style scoped>\n",
       "    .dataframe tbody tr th:only-of-type {\n",
       "        vertical-align: middle;\n",
       "    }\n",
       "\n",
       "    .dataframe tbody tr th {\n",
       "        vertical-align: top;\n",
       "    }\n",
       "\n",
       "    .dataframe thead th {\n",
       "        text-align: right;\n",
       "    }\n",
       "</style>\n",
       "<table border=\"1\" class=\"dataframe\">\n",
       "  <thead>\n",
       "    <tr style=\"text-align: right;\">\n",
       "      <th></th>\n",
       "      <th>InvoiceNo</th>\n",
       "      <th>StockCode</th>\n",
       "      <th>Description</th>\n",
       "      <th>Quantity</th>\n",
       "      <th>InvoiceDate</th>\n",
       "      <th>UnitPrice</th>\n",
       "      <th>CustomerID</th>\n",
       "      <th>Country</th>\n",
       "    </tr>\n",
       "  </thead>\n",
       "  <tbody>\n",
       "    <tr>\n",
       "      <th>0</th>\n",
       "      <td>536365</td>\n",
       "      <td>85123A</td>\n",
       "      <td>WHITE HANGING HEART T-LIGHT HOLDER</td>\n",
       "      <td>6</td>\n",
       "      <td>12/1/2010 8:26</td>\n",
       "      <td>2.55</td>\n",
       "      <td>17850.00</td>\n",
       "      <td>United Kingdom</td>\n",
       "    </tr>\n",
       "    <tr>\n",
       "      <th>1</th>\n",
       "      <td>536365</td>\n",
       "      <td>71053</td>\n",
       "      <td>WHITE METAL LANTERN</td>\n",
       "      <td>6</td>\n",
       "      <td>12/1/2010 8:26</td>\n",
       "      <td>3.39</td>\n",
       "      <td>17850.00</td>\n",
       "      <td>United Kingdom</td>\n",
       "    </tr>\n",
       "    <tr>\n",
       "      <th>2</th>\n",
       "      <td>536365</td>\n",
       "      <td>84406B</td>\n",
       "      <td>CREAM CUPID HEARTS COAT HANGER</td>\n",
       "      <td>8</td>\n",
       "      <td>12/1/2010 8:26</td>\n",
       "      <td>2.75</td>\n",
       "      <td>17850.00</td>\n",
       "      <td>United Kingdom</td>\n",
       "    </tr>\n",
       "    <tr>\n",
       "      <th>3</th>\n",
       "      <td>536365</td>\n",
       "      <td>84029G</td>\n",
       "      <td>KNITTED UNION FLAG HOT WATER BOTTLE</td>\n",
       "      <td>6</td>\n",
       "      <td>12/1/2010 8:26</td>\n",
       "      <td>3.39</td>\n",
       "      <td>17850.00</td>\n",
       "      <td>United Kingdom</td>\n",
       "    </tr>\n",
       "    <tr>\n",
       "      <th>4</th>\n",
       "      <td>536365</td>\n",
       "      <td>84029E</td>\n",
       "      <td>RED WOOLLY HOTTIE WHITE HEART.</td>\n",
       "      <td>6</td>\n",
       "      <td>12/1/2010 8:26</td>\n",
       "      <td>3.39</td>\n",
       "      <td>17850.00</td>\n",
       "      <td>United Kingdom</td>\n",
       "    </tr>\n",
       "    <tr>\n",
       "      <th>...</th>\n",
       "      <td>...</td>\n",
       "      <td>...</td>\n",
       "      <td>...</td>\n",
       "      <td>...</td>\n",
       "      <td>...</td>\n",
       "      <td>...</td>\n",
       "      <td>...</td>\n",
       "      <td>...</td>\n",
       "    </tr>\n",
       "    <tr>\n",
       "      <th>541904</th>\n",
       "      <td>581587</td>\n",
       "      <td>22613</td>\n",
       "      <td>PACK OF 20 SPACEBOY NAPKINS</td>\n",
       "      <td>12</td>\n",
       "      <td>12/9/2011 12:50</td>\n",
       "      <td>0.85</td>\n",
       "      <td>12680.00</td>\n",
       "      <td>France</td>\n",
       "    </tr>\n",
       "    <tr>\n",
       "      <th>541905</th>\n",
       "      <td>581587</td>\n",
       "      <td>22899</td>\n",
       "      <td>CHILDREN'S APRON DOLLY GIRL</td>\n",
       "      <td>6</td>\n",
       "      <td>12/9/2011 12:50</td>\n",
       "      <td>2.10</td>\n",
       "      <td>12680.00</td>\n",
       "      <td>France</td>\n",
       "    </tr>\n",
       "    <tr>\n",
       "      <th>541906</th>\n",
       "      <td>581587</td>\n",
       "      <td>23254</td>\n",
       "      <td>CHILDRENS CUTLERY DOLLY GIRL</td>\n",
       "      <td>4</td>\n",
       "      <td>12/9/2011 12:50</td>\n",
       "      <td>4.15</td>\n",
       "      <td>12680.00</td>\n",
       "      <td>France</td>\n",
       "    </tr>\n",
       "    <tr>\n",
       "      <th>541907</th>\n",
       "      <td>581587</td>\n",
       "      <td>23255</td>\n",
       "      <td>CHILDRENS CUTLERY CIRCUS PARADE</td>\n",
       "      <td>4</td>\n",
       "      <td>12/9/2011 12:50</td>\n",
       "      <td>4.15</td>\n",
       "      <td>12680.00</td>\n",
       "      <td>France</td>\n",
       "    </tr>\n",
       "    <tr>\n",
       "      <th>541908</th>\n",
       "      <td>581587</td>\n",
       "      <td>22138</td>\n",
       "      <td>BAKING SET 9 PIECE RETROSPOT</td>\n",
       "      <td>3</td>\n",
       "      <td>12/9/2011 12:50</td>\n",
       "      <td>4.95</td>\n",
       "      <td>12680.00</td>\n",
       "      <td>France</td>\n",
       "    </tr>\n",
       "  </tbody>\n",
       "</table>\n",
       "<p>541909 rows × 8 columns</p>\n",
       "</div>"
      ],
      "text/plain": [
       "       InvoiceNo StockCode                          Description  Quantity  \\\n",
       "0         536365    85123A   WHITE HANGING HEART T-LIGHT HOLDER         6   \n",
       "1         536365     71053                  WHITE METAL LANTERN         6   \n",
       "2         536365    84406B       CREAM CUPID HEARTS COAT HANGER         8   \n",
       "3         536365    84029G  KNITTED UNION FLAG HOT WATER BOTTLE         6   \n",
       "4         536365    84029E       RED WOOLLY HOTTIE WHITE HEART.         6   \n",
       "...          ...       ...                                  ...       ...   \n",
       "541904    581587     22613          PACK OF 20 SPACEBOY NAPKINS        12   \n",
       "541905    581587     22899         CHILDREN'S APRON DOLLY GIRL          6   \n",
       "541906    581587     23254        CHILDRENS CUTLERY DOLLY GIRL          4   \n",
       "541907    581587     23255      CHILDRENS CUTLERY CIRCUS PARADE         4   \n",
       "541908    581587     22138        BAKING SET 9 PIECE RETROSPOT          3   \n",
       "\n",
       "            InvoiceDate  UnitPrice  CustomerID         Country  \n",
       "0        12/1/2010 8:26       2.55    17850.00  United Kingdom  \n",
       "1        12/1/2010 8:26       3.39    17850.00  United Kingdom  \n",
       "2        12/1/2010 8:26       2.75    17850.00  United Kingdom  \n",
       "3        12/1/2010 8:26       3.39    17850.00  United Kingdom  \n",
       "4        12/1/2010 8:26       3.39    17850.00  United Kingdom  \n",
       "...                 ...        ...         ...             ...  \n",
       "541904  12/9/2011 12:50       0.85    12680.00          France  \n",
       "541905  12/9/2011 12:50       2.10    12680.00          France  \n",
       "541906  12/9/2011 12:50       4.15    12680.00          France  \n",
       "541907  12/9/2011 12:50       4.15    12680.00          France  \n",
       "541908  12/9/2011 12:50       4.95    12680.00          France  \n",
       "\n",
       "[541909 rows x 8 columns]"
      ]
     },
     "execution_count": 5,
     "metadata": {},
     "output_type": "execute_result"
    }
   ],
   "source": [
    "data = online_retail.data['original']\n",
    "\n",
    "data"
   ]
  },
  {
   "cell_type": "code",
   "execution_count": 6,
   "id": "e88fb023-81d1-441f-92fe-3daecfa9a78f",
   "metadata": {},
   "outputs": [
    {
     "name": "stdout",
     "output_type": "stream",
     "text": [
      "<class 'pandas.core.frame.DataFrame'>\n",
      "RangeIndex: 541909 entries, 0 to 541908\n",
      "Data columns (total 8 columns):\n",
      " #   Column       Non-Null Count   Dtype  \n",
      "---  ------       --------------   -----  \n",
      " 0   InvoiceNo    541909 non-null  object \n",
      " 1   StockCode    541909 non-null  object \n",
      " 2   Description  540455 non-null  object \n",
      " 3   Quantity     541909 non-null  int64  \n",
      " 4   InvoiceDate  541909 non-null  object \n",
      " 5   UnitPrice    541909 non-null  float64\n",
      " 6   CustomerID   406829 non-null  float64\n",
      " 7   Country      541909 non-null  object \n",
      "dtypes: float64(2), int64(1), object(5)\n",
      "memory usage: 33.1+ MB\n",
      "None\n"
     ]
    }
   ],
   "source": [
    "#Overview of datatypes \n",
    "print(data.info())\n"
   ]
  },
  {
   "cell_type": "code",
   "execution_count": 7,
   "id": "b2a8708e",
   "metadata": {},
   "outputs": [
    {
     "name": "stdout",
     "output_type": "stream",
     "text": [
      "       Quantity  UnitPrice  CustomerID\n",
      "count 541909.00  541909.00   406829.00\n",
      "mean       9.55       4.61    15287.69\n",
      "std      218.08      96.76     1713.60\n",
      "min   -80995.00  -11062.06    12346.00\n",
      "25%        1.00       1.25    13953.00\n",
      "50%        3.00       2.08    15152.00\n",
      "75%       10.00       4.13    16791.00\n",
      "max    80995.00   38970.00    18287.00\n"
     ]
    }
   ],
   "source": [
    "#Statistical view of the data\n",
    "print(data.describe())"
   ]
  },
  {
   "cell_type": "code",
   "execution_count": 8,
   "id": "c7e2362a",
   "metadata": {},
   "outputs": [
    {
     "name": "stdout",
     "output_type": "stream",
     "text": [
      "Number of duplicate rows: 5268\n"
     ]
    }
   ],
   "source": [
    "duplicates = data.duplicated().sum()\n",
    "print(f\"Number of duplicate rows: {duplicates}\")\n"
   ]
  },
  {
   "cell_type": "code",
   "execution_count": 9,
   "id": "b83ab9da",
   "metadata": {},
   "outputs": [],
   "source": [
    "#Dropping the duplicates\n",
    "data = data[~data.duplicated()]"
   ]
  },
  {
   "cell_type": "code",
   "execution_count": 10,
   "id": "a5f8eaba",
   "metadata": {},
   "outputs": [
    {
     "data": {
      "text/html": [
       "<div>\n",
       "<style scoped>\n",
       "    .dataframe tbody tr th:only-of-type {\n",
       "        vertical-align: middle;\n",
       "    }\n",
       "\n",
       "    .dataframe tbody tr th {\n",
       "        vertical-align: top;\n",
       "    }\n",
       "\n",
       "    .dataframe thead th {\n",
       "        text-align: right;\n",
       "    }\n",
       "</style>\n",
       "<table border=\"1\" class=\"dataframe\">\n",
       "  <thead>\n",
       "    <tr style=\"text-align: right;\">\n",
       "      <th></th>\n",
       "      <th>Missing Values</th>\n",
       "      <th>% of Total Values</th>\n",
       "    </tr>\n",
       "  </thead>\n",
       "  <tbody>\n",
       "    <tr>\n",
       "      <th>InvoiceNo</th>\n",
       "      <td>0</td>\n",
       "      <td>0.00</td>\n",
       "    </tr>\n",
       "    <tr>\n",
       "      <th>StockCode</th>\n",
       "      <td>0</td>\n",
       "      <td>0.00</td>\n",
       "    </tr>\n",
       "    <tr>\n",
       "      <th>Description</th>\n",
       "      <td>1454</td>\n",
       "      <td>0.27</td>\n",
       "    </tr>\n",
       "    <tr>\n",
       "      <th>Quantity</th>\n",
       "      <td>0</td>\n",
       "      <td>0.00</td>\n",
       "    </tr>\n",
       "    <tr>\n",
       "      <th>InvoiceDate</th>\n",
       "      <td>0</td>\n",
       "      <td>0.00</td>\n",
       "    </tr>\n",
       "    <tr>\n",
       "      <th>UnitPrice</th>\n",
       "      <td>0</td>\n",
       "      <td>0.00</td>\n",
       "    </tr>\n",
       "    <tr>\n",
       "      <th>CustomerID</th>\n",
       "      <td>135037</td>\n",
       "      <td>25.16</td>\n",
       "    </tr>\n",
       "    <tr>\n",
       "      <th>Country</th>\n",
       "      <td>0</td>\n",
       "      <td>0.00</td>\n",
       "    </tr>\n",
       "  </tbody>\n",
       "</table>\n",
       "</div>"
      ],
      "text/plain": [
       "             Missing Values  % of Total Values\n",
       "InvoiceNo                 0               0.00\n",
       "StockCode                 0               0.00\n",
       "Description            1454               0.27\n",
       "Quantity                  0               0.00\n",
       "InvoiceDate               0               0.00\n",
       "UnitPrice                 0               0.00\n",
       "CustomerID           135037              25.16\n",
       "Country                   0               0.00"
      ]
     },
     "execution_count": 10,
     "metadata": {},
     "output_type": "execute_result"
    }
   ],
   "source": [
    "#Missing values\n",
    "mis_val = data.isnull().sum()\n",
    "\n",
    "#Percentage of missing values\n",
    "mis_val_percent = 100 * data.isnull().sum() / len(data)        \n",
    "\n",
    "mis_val_table = pd.concat([mis_val, mis_val_percent], axis=1)        \n",
    "mis_val_table = mis_val_table.rename(columns = {0 : 'Missing Values', 1 : '% of Total Values'})        \n",
    "\n",
    "mis_val_table"
   ]
  },
  {
   "cell_type": "markdown",
   "id": "4e26ee92",
   "metadata": {},
   "source": [
    "Two columns in the dataset have missing values: *Description* and *CustomerID*, with 0.27% and 25.16% of the total records affected, respectively. Given that approximately 25% of the records lack a customer ID, these records are not useful for Cohort Analysis. However, one can further investigate whether any records share the same invoice number but differ in their customer ID status. Then, one could potentially fill in the missing customer IDs, thereby reducing data loss."
   ]
  },
  {
   "cell_type": "code",
   "execution_count": 11,
   "id": "6ce15b18",
   "metadata": {},
   "outputs": [
    {
     "data": {
      "text/plain": [
       "135037"
      ]
     },
     "execution_count": 11,
     "metadata": {},
     "output_type": "execute_result"
    }
   ],
   "source": [
    "#unique InvoiceNo with null CustomerID records\n",
    "Invoice_list = data[data.CustomerID.isnull()]['InvoiceNo'].tolist()\n",
    "\n",
    "#Number of records with these InvoiceNo\n",
    "len(data[data.InvoiceNo.isin(Invoice_list)])    "
   ]
  },
  {
   "cell_type": "markdown",
   "id": "492e1f1e",
   "metadata": {},
   "source": [
    "Since the count of the Invoice with null customerID is equivalent to the number of records with missing CustomerID, it's not possible to prevent the loss and it's better to remove all such records before any further analysis. For the *Description* missing values, since this is not an essencial column for Cohort Analysis, they will be replace for an \"Unknown\" description. "
   ]
  },
  {
   "cell_type": "code",
   "execution_count": 12,
   "id": "53d5f726",
   "metadata": {},
   "outputs": [
    {
     "data": {
      "text/plain": [
       "InvoiceNo      0\n",
       "StockCode      0\n",
       "Description    0\n",
       "Quantity       0\n",
       "InvoiceDate    0\n",
       "UnitPrice      0\n",
       "CustomerID     0\n",
       "Country        0\n",
       "dtype: int64"
      ]
     },
     "execution_count": 12,
     "metadata": {},
     "output_type": "execute_result"
    }
   ],
   "source": [
    "#Replace unknown in empty descriptions\n",
    "data['Description'].fillna('Unknown', inplace=True)\n",
    "\n",
    "#Clean the rows with missing CustomerId\n",
    "data_cleaned = data.dropna(subset=['CustomerID'])\n",
    "\n",
    "data_cleaned.isnull().sum()"
   ]
  },
  {
   "cell_type": "markdown",
   "id": "31521358",
   "metadata": {},
   "source": [
    "In the metadata the description of InvoiceNo says *InvoiceNo: Nominal, a 6-digit integral number uniquely assigned to each transaction. If this code starts with letter 'c', it indicates a cancellation.* Therefore, it's necessary to check for that data and store it in other dataset for the analysis. "
   ]
  },
  {
   "cell_type": "code",
   "execution_count": 13,
   "id": "14483c6a",
   "metadata": {},
   "outputs": [
    {
     "data": {
      "text/plain": [
       "8872"
      ]
     },
     "execution_count": 13,
     "metadata": {},
     "output_type": "execute_result"
    }
   ],
   "source": [
    "cancelled_trans = data_cleaned.InvoiceNo.str.contains('C', na=False).sum()\n",
    "\n",
    "cancelled_trans"
   ]
  },
  {
   "cell_type": "code",
   "execution_count": 15,
   "id": "3eead34c",
   "metadata": {},
   "outputs": [
    {
     "data": {
      "text/plain": [
       "392732"
      ]
     },
     "execution_count": 15,
     "metadata": {},
     "output_type": "execute_result"
    }
   ],
   "source": [
    "data_cleaned = data_cleaned[~data_cleaned.InvoiceNo.str.contains('C', na=False)]\n",
    "len(data_cleaned)"
   ]
  },
  {
   "cell_type": "markdown",
   "id": "1e87752d",
   "metadata": {},
   "source": [
    "## Exploratoy Data Analysis "
   ]
  },
  {
   "cell_type": "code",
   "execution_count": 18,
   "id": "6f441d0f-9914-4d88-b432-ac61e103beda",
   "metadata": {},
   "outputs": [],
   "source": [
    "#Transform datatypes as neceessary\n",
    "data_cleaned['InvoiceDate'] = pd.to_datetime(data_cleaned['InvoiceDate'])"
   ]
  },
  {
   "cell_type": "code",
   "execution_count": 19,
   "id": "89186832",
   "metadata": {},
   "outputs": [
    {
     "name": "stdout",
     "output_type": "stream",
     "text": [
      "Oldest date is - 2010-12-01 08:26:00\n",
      "\n",
      "Latest date is - 2011-12-09 12:50:00\n"
     ]
    }
   ],
   "source": [
    "#Checking after the cleaning what is the temporal distribution\n",
    "print(f'Oldest date is - {data_cleaned.InvoiceDate.min()}\\n')\n",
    "print(f'Latest date is - {data_cleaned.InvoiceDate.max()}')"
   ]
  },
  {
   "cell_type": "markdown",
   "id": "788f1588-9972-4834-b0eb-9f62ea1710aa",
   "metadata": {},
   "source": [
    "Since 2010 only includes transactions done in December, therefore it will be evident that most of the records belong to 2011."
   ]
  },
  {
   "cell_type": "code",
   "execution_count": 24,
   "id": "bf98f79a-f397-4c15-87c6-833fd80b2361",
   "metadata": {},
   "outputs": [
    {
     "data": {
      "image/png": "[encoded data removed]",
      "text/plain": [
       "<Figure size 600x400 with 1 Axes>"
      ]
     },
     "metadata": {},
     "output_type": "display_data"
    }
   ],
   "source": [
    "data_cleaned['Year'] = data_cleaned['InvoiceDate'].dt.year\n",
    "data_cleaned['Month'] = data_cleaned['InvoiceDate'].dt.month\n",
    "\n",
    "plt.figure(figsize=(6,4))\n",
    "sns.countplot(x='Month', hue='Year', data=data_cleaned, order=range(1, 13))\n",
    "plt.title('Count of Transactions per month')\n",
    "plt.xlabel('Month')\n",
    "plt.ylabel('Number of Transactions')\n",
    "plt.xticks(rotation=0)\n",
    "plt.legend(title='Year')\n",
    "plt.show()"
   ]
  },
  {
   "cell_type": "markdown",
   "id": "2a04f4fa-6b80-4de1-9cb2-fc025da886a5",
   "metadata": {},
   "source": [
    "An increasing trend can be observed month by month, with a notable decline in December. This drop is expected, as only the first 8–9 days of December 2011 are included in the dataset, meaning that around 70% of the month's transactions are missing. Considering this, the sales figures appear reasonable and consistent with the available data."
   ]
  },
  {
   "cell_type": "code",
   "execution_count": 25,
   "id": "4960548e",
   "metadata": {},
   "outputs": [
    {
     "data": {
      "text/plain": [
       "United Kingdom    88.9%\n",
       "Germany            2.3%\n",
       "France             2.1%\n",
       "EIRE               1.8%\n",
       "Spain              0.6%\n",
       "Netherlands        0.6%\n",
       "Belgium            0.5%\n",
       "Switzerland        0.5%\n",
       "Portugal           0.4%\n",
       "Australia          0.3%\n",
       "Name: Country, dtype: object"
      ]
     },
     "execution_count": 25,
     "metadata": {},
     "output_type": "execute_result"
    }
   ],
   "source": [
    "#top ten countries in the dataset with highest transactions\n",
    "data_cleaned.Country.value_counts(normalize=True).head(10).mul(100).round(1).astype(str) + '%'\n"
   ]
  },
  {
   "cell_type": "markdown",
   "id": "81a13e12-f436-49bc-9098-81ad9c9f2b06",
   "metadata": {},
   "source": [
    "Almost 90% of records belong to sales done in the United Kingdom."
   ]
  },
  {
   "cell_type": "code",
   "execution_count": 44,
   "id": "ddc2456d",
   "metadata": {},
   "outputs": [
    {
     "data": {
      "image/png": "[encoded data removed]",
      "text/plain": [
       "<Figure size 1000x300 with 1 Axes>"
      ]
     },
     "metadata": {},
     "output_type": "display_data"
    },
    {
     "data": {
      "image/png": "[encoded data removed]",
      "text/plain": [
       "<Figure size 1000x300 with 1 Axes>"
      ]
     },
     "metadata": {},
     "output_type": "display_data"
    }
   ],
   "source": [
    "#Quantity distribution\n",
    "plt.figure(figsize=(10,3))\n",
    "sns.boxplot(x='Quantity', data=data_cleaned, orient='h')\n",
    "plt.title('Quantity Distribution')\n",
    "plt.show()\n",
    "\n",
    "#Unit price distribution\n",
    "plt.figure(figsize=(10,3))\n",
    "sns.boxplot(x='UnitPrice', data=data_cleaned, orient='h')\n",
    "plt.title('Unit price distribution (£)')\n",
    "plt.show()\n"
   ]
  },
  {
   "cell_type": "markdown",
   "id": "1e008483-454d-4909-a88d-0cf148e51e36",
   "metadata": {},
   "source": [
    "This indicates that both the Quantity and Unit Price data are highly skewed toward lower values, with a few outliers present. These outliers could be due to data entry errors or genuine large orders."
   ]
  },
  {
   "cell_type": "code",
   "execution_count": 45,
   "id": "264a0ad3-decc-4359-b835-7982c0470811",
   "metadata": {},
   "outputs": [
    {
     "data": {
      "image/png": "[encoded data removed]",
      "text/plain": [
       "<Figure size 1000x300 with 1 Axes>"
      ]
     },
     "metadata": {},
     "output_type": "display_data"
    }
   ],
   "source": [
    "#feature with total cost of the transactions\n",
    "data_cleaned['Total_cost'] = data_cleaned.Quantity * data_cleaned.UnitPrice\n",
    "\n",
    "#Total cost distribution\n",
    "plt.figure(figsize=(10,3))\n",
    "sns.boxplot(x='Total_cost', data=data_cleaned, orient='h')\n",
    "plt.title('Total Cost distribution (£)')\n",
    "plt.show()\n"
   ]
  },
  {
   "cell_type": "markdown",
   "id": "9670cf27-f6f4-4606-ae8a-0695f22ea07b",
   "metadata": {},
   "source": [
    "Similar to the Unit Price values, the calculated Total Costs seem to be highly skeweed for total prices under £12500."
   ]
  },
  {
   "cell_type": "code",
   "execution_count": 52,
   "id": "91062123-72f0-474a-9065-3cb2a3842995",
   "metadata": {},
   "outputs": [
    {
     "data": {
      "image/png": "[encoded data removed]",
      "text/plain": [
       "<Figure size 600x400 with 1 Axes>"
      ]
     },
     "metadata": {},
     "output_type": "display_data"
    }
   ],
   "source": [
    "#Visualization of some top products from the whole range\n",
    "top_products = data_cleaned['Description'].value_counts().head(20)\n",
    "\n",
    "plt.figure(figsize=(6,4))  \n",
    "sns.set_context(\"talk\", font_scale=0.5)  \n",
    "sns.barplot(y=top_products.index, x=top_products.values, palette=\"coolwarm\")\n",
    "plt.title(\"Top 20 Selling Products\", fontsize=12)\n",
    "plt.xlabel(\"Number of Transactions\", fontsize=10)\n",
    "plt.ylabel(\"Product Description\", fontsize=10)\n",
    "plt.show()"
   ]
  },
  {
   "cell_type": "markdown",
   "id": "154f9a85-c90b-49c3-adc0-6fb0ef77961d",
   "metadata": {},
   "source": [
    "The most frequently sold products vary significantly in their transaction counts, ranging from around 800 to 2000 transactions. This range highlights the disparity in sales volume among top products, with a few items dominating the sales figures."
   ]
  },
  {
   "cell_type": "code",
   "execution_count": 53,
   "id": "33ed9f17-343d-479f-a179-5d5a97b2fdb9",
   "metadata": {},
   "outputs": [],
   "source": [
    "#Save the cleaned data set to work on ongoing Cohort Analysis\n",
    "data_cleaned.to_csv('data_cleaned.csv', index=False)"
   ]
  },
  {
   "cell_type": "code",
   "execution_count": null,
   "id": "e5aa01e0-e8e3-46df-9cdc-04386d706d69",
   "metadata": {},
   "outputs": [],
   "source": []
  }
 ],
 "metadata": {
  "kernelspec": {
   "display_name": "Python 3 (ipykernel)",
   "language": "python",
   "name": "python3"
  },
  "language_info": {
   "codemirror_mode": {
    "name": "ipython",
    "version": 3
   },
   "file_extension": ".py",
   "mimetype": "text/x-python",
   "name": "python",
   "nbconvert_exporter": "python",
   "pygments_lexer": "ipython3",
   "version": "3.11.6"
  }
 },
 "nbformat": 4,
 "nbformat_minor": 5
}
